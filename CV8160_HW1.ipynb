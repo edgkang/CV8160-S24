{
  "nbformat": 4,
  "nbformat_minor": 0,
  "metadata": {
    "colab": {
      "provenance": [],
      "mount_file_id": "15yv5cVSsHT3ag0Q2o4MO1cYmL29RwALW",
      "authorship_tag": "ABX9TyNMd2UGB93Paz+QczNvJELn"
    },
    "kernelspec": {
      "name": "python3",
      "display_name": "Python 3"
    },
    "language_info": {
      "name": "python"
    }
  },
  "cells": [
    {
      "cell_type": "code",
      "source": [
        "from google.colab import drive\n",
        "drive.mount('/content/drive')"
      ],
      "metadata": {
        "id": "q5teUwxvdh_v"
      },
      "execution_count": null,
      "outputs": []
    },
    {
      "cell_type": "code",
      "execution_count": null,
      "metadata": {
        "id": "0rB9cDyyc9GW"
      },
      "outputs": [],
      "source": [
        "%cd '/content/drive/MyDrive/CV8160 S24/HW1'"
      ]
    },
    {
      "cell_type": "code",
      "source": [
        "import os\n",
        "import torch\n",
        "import pandas as pd\n",
        "from skimage import io, transform\n",
        "import numpy as np\n",
        "import matplotlib.pyplot as plt\n",
        "from torch.utils.data import Dataset, DataLoader\n",
        "from torchvision import transforms, utils\n",
        "from pathlib import Path\n",
        "from PIL import Image\n",
        "import warnings\n",
        "warnings.filterwarnings(\"ignore\")\n",
        "plt.ion()   # interactive mode"
      ],
      "metadata": {
        "id": "-A6AZuERdjKN"
      },
      "execution_count": null,
      "outputs": []
    },
    {
      "cell_type": "code",
      "source": [
        "class hw1(Dataset)\n",
        "  def __init__(self, root_dir)\n",
        "  self.root = Path(root_dir)\n",
        "  self.df = pd.DataFrame(columns=)"
      ],
      "metadata": {
        "id": "Nb-qoQZOdolO"
      },
      "execution_count": null,
      "outputs": []
    }
  ]
}